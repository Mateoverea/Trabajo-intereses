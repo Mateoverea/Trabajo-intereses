{
 "cells": [
  {
   "cell_type": "code",
   "execution_count": 17,
   "metadata": {},
   "outputs": [],
   "source": [
    "def intSimpleCapital(capital, periodos, interes):\n",
    "    return capital * (1 + periodos * interes)"
   ]
  },
  {
   "cell_type": "code",
   "execution_count": 18,
   "metadata": {},
   "outputs": [],
   "source": [
    "import numpy as np\n",
    "import matplotlib.pyplot as plt\n",
    "% matplotlib inline"
   ]
  },
  {
   "cell_type": "code",
   "execution_count": 22,
   "metadata": {},
   "outputs": [],
   "source": [
    "listaDeInteres = [.05, .1, .15, .2, .5]"
   ]
  },
  {
   "cell_type": "code",
   "execution_count": 25,
   "metadata": {},
   "outputs": [
    {
     "name": "stdout",
     "output_type": "stream",
     "text": [
      "16000.0 22000.0 28000.0 34000.0 70000.0 "
     ]
    }
   ],
   "source": [
    "periodos = 12\n",
    "for interes in listaDeInteres :\n",
    "    print (intSimpleCapital(10000, periodos, interes), end = \" \")"
   ]
  },
  {
   "cell_type": "code",
   "execution_count": 29,
   "metadata": {},
   "outputs": [
    {
     "data": {
      "image/png": "[encoded data removed]",
      "text/plain": [
       "<Figure size 432x288 with 1 Axes>"
      ]
     },
     "metadata": {},
     "output_type": "display_data"
    }
   ],
   "source": [
    "periodos = [3, 6 ,12, 18]\n",
    "colores = [\"black\", \"red\", \"blue\", \"orange\"]\n",
    "for indx, periodo in enumerate(periodos):\n",
    "    for interes in listaDeInteres:\n",
    "        capitalx = intSimpleCapital(10000, periodo, interes)\n",
    "        plt.scatter([periodo], [capitalx], color = colores[indx], s = 5)"
   ]
  },
  {
   "cell_type": "code",
   "execution_count": 30,
   "metadata": {},
   "outputs": [],
   "source": [
    "def intCompuestoCapital(capital, periodos, interes):\n",
    "    return capital * (1 + interes)**periodos"
   ]
  },
  {
   "cell_type": "code",
   "execution_count": 31,
   "metadata": {},
   "outputs": [
    {
     "name": "stdout",
     "output_type": "stream",
     "text": [
      "16000.0 22000.0 28000.0 34000.0 70000.0 "
     ]
    }
   ],
   "source": [
    "periodos = 12\n",
    "for interes in listaDeInteres :\n",
    "    print (intSimpleCapital(10000, periodos, interes), end = \" \")"
   ]
  },
  {
   "cell_type": "code",
   "execution_count": 32,
   "metadata": {},
   "outputs": [
    {
     "data": {
      "image/png": "[encoded data removed]",
      "text/plain": [
       "<Figure size 432x288 with 1 Axes>"
      ]
     },
     "metadata": {},
     "output_type": "display_data"
    }
   ],
   "source": [
    "periodos = [3, 6 ,12, 18]\n",
    "colores = [\"black\", \"red\", \"blue\", \"orange\"]\n",
    "for indx, periodo in enumerate(periodos):\n",
    "    for interes in listaDeInteres:\n",
    "        capitalx = intSimpleCapital(10000, periodo, interes)\n",
    "        plt.scatter([periodo], [capitalx], color = colores[indx], s = 5)"
   ]
  },
  {
   "cell_type": "markdown",
   "metadata": {},
   "source": [
    "<font color=blue>Actividad.</font>"
   ]
  },
  {
   "cell_type": "code",
   "execution_count": 33,
   "metadata": {},
   "outputs": [],
   "source": [
    "def Nper(c0, ck, interes):\n",
    "    nper = (ck/c0 - 1 )/interes\n",
    "    if (nper - int(nper)) == 0:\n",
    "        return nper\n",
    "    else:\n",
    "        return int(nper) + 1"
   ]
  },
  {
   "cell_type": "code",
   "execution_count": 35,
   "metadata": {},
   "outputs": [
    {
     "data": {
      "text/plain": [
       "11"
      ]
     },
     "execution_count": 35,
     "metadata": {},
     "output_type": "execute_result"
    }
   ],
   "source": [
    "Nper(10000, 11000, .01 )"
   ]
  },
  {
   "cell_type": "code",
   "execution_count": 36,
   "metadata": {},
   "outputs": [
    {
     "data": {
      "text/plain": [
       "25"
      ]
     },
     "execution_count": 36,
     "metadata": {},
     "output_type": "execute_result"
    }
   ],
   "source": [
    "Nper(10000, 12000, .008 )"
   ]
  },
  {
   "cell_type": "code",
   "execution_count": 2,
   "metadata": {},
   "outputs": [],
   "source": [
    "import numpy as np\n",
    "def periodosC(capital, meta, interes):\n",
    "    return np.log(meta/capital) / np.log(1 + interes)"
   ]
  },
  {
   "cell_type": "code",
   "execution_count": 3,
   "metadata": {},
   "outputs": [
    {
     "data": {
      "text/plain": [
       "81.29558565292038"
      ]
     },
     "execution_count": 3,
     "metadata": {},
     "output_type": "execute_result"
    }
   ],
   "source": [
    "periodosC(1000, 1500, .005)"
   ]
  },
  {
   "cell_type": "code",
   "execution_count": 8,
   "metadata": {},
   "outputs": [],
   "source": [
    "def NperComp(c0, ck, interes):\n",
    "    nper = np.log(ck/c0)/np.log(1 + interes)\n",
    "    if (nper - int(nper)) == 0:\n",
    "        return nper\n",
    "    else:\n",
    "        return int(nper) + 1"
   ]
  },
  {
   "cell_type": "code",
   "execution_count": 9,
   "metadata": {},
   "outputs": [
    {
     "data": {
      "text/plain": [
       "82"
      ]
     },
     "execution_count": 9,
     "metadata": {},
     "output_type": "execute_result"
    }
   ],
   "source": [
    "NperComp(1000, 1500, .005)"
   ]
  },
  {
   "cell_type": "code",
   "execution_count": null,
   "metadata": {},
   "outputs": [],
   "source": []
  }
 ],
 "metadata": {
  "kernelspec": {
   "display_name": "Python 3",
   "language": "python",
   "name": "python3"
  },
  "language_info": {
   "codemirror_mode": {
    "name": "ipython",
    "version": 3
   },
   "file_extension": ".py",
   "mimetype": "text/x-python",
   "name": "python",
   "nbconvert_exporter": "python",
   "pygments_lexer": "ipython3",
   "version": "3.6.5"
  }
 },
 "nbformat": 4,
 "nbformat_minor": 2
}
